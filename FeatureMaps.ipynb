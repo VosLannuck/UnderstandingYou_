{
 "cells": [
  {
   "cell_type": "code",
   "execution_count": 1,
   "metadata": {},
   "outputs": [],
   "source": [
    "import FeatureMapsExtractor as fme\n",
    "import Enums\n",
    "import importlib\n",
    "importlib.reload(fme)\n",
    "\n",
    "resnet_path: str = \"./checkpoints/pretrained_resnet/best.pth\"\n",
    "fme.run(\n",
    "    modelName=\"resnet\", type_model=\"pretrained\",\n",
    "    path=resnet_path, image_path=\"./Dataset/Testing/notsmoking_0058.jpg\"\n",
    ")"
   ]
  },
  {
   "cell_type": "code",
   "execution_count": null,
   "metadata": {},
   "outputs": [],
   "source": []
  }
 ],
 "metadata": {
  "kernelspec": {
   "display_name": "AIS_MDS",
   "language": "python",
   "name": "python3"
  },
  "language_info": {
   "codemirror_mode": {
    "name": "ipython",
    "version": 3
   },
   "file_extension": ".py",
   "mimetype": "text/x-python",
   "name": "python",
   "nbconvert_exporter": "python",
   "pygments_lexer": "ipython3",
   "version": "3.9.18"
  }
 },
 "nbformat": 4,
 "nbformat_minor": 2
}
