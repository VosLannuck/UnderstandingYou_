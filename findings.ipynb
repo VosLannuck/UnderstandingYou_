{
 "cells": [
  {
   "cell_type": "code",
   "execution_count": 1,
   "metadata": {},
   "outputs": [
    {
     "data": {
      "text/plain": [
       "<module 'FeatureMapsExtractor' from '/mnt/Development-Main/Vos/S2_Porjects/UnderstandingYou/FeatureMapsExtractor.py'>"
      ]
     },
     "execution_count": 1,
     "metadata": {},
     "output_type": "execute_result"
    }
   ],
   "source": [
    "import pandas as pd\n",
    "import numpy as np \n",
    "import matplotlib.pyplot as plt\n",
    "\n",
    "import torch\n",
    "from torch.nn import Module\n",
    "from Enums import ModelMethod, ModelName\n",
    "from omegaconf import OmegaConf, DictConfig, ListConfig\n",
    "from typing import List, Union\n",
    "from DataPreps import makeDataFrame, makeDataset\n",
    "\n",
    "import FeatureMapsExtractor as fme\n",
    "import importlib\n",
    "import ErrorAnalysisUtils as eau\n",
    "importlib.reload(fme)"
   ]
  },
  {
   "cell_type": "code",
   "execution_count": null,
   "metadata": {},
   "outputs": [],
   "source": []
  },
  {
   "cell_type": "code",
   "execution_count": 2,
   "metadata": {},
   "outputs": [
    {
     "name": "stdout",
     "output_type": "stream",
     "text": [
      "{'data': {'training_path': './Dataset/Training/', 'validation_path': './Dataset/Validation/', 'testing_path': './Dataset/Testing/'}, 'constant': {'vanilla_cnn': 'vanilla_cnn', 'vanilla_vgg16': 'vanilla_vgg16', 'vanilla_resnet': 'vanilla_resnet', 'vanilla_alex': 'vanilla_alex', 'vit': 'vit_swin', 'pre_vgg16': 'pretrained_vgg16', 'pre_resnet': 'pretrained_resnet', 'pre_alex': 'pretrained_alex', 'train_split': 0.75, 'batch_size': 64, 'lr': 0.001, 'img_size': 224, 'num_classes': 2, 'epoch': 30, 'lr_mile': {'_1': 14, '_2': 19, '_3': 23, '_4': 27, '_5': 28, '_6': 29}, 'best_v_alex': 0.000109, 'best_v_vgg16': 0.000104, 'best_v_cnn': 0.001, 'best_v_resnet': 0.000318, 'best_p_alex': 0.000339, 'best_p_resnet': 0.006045, 'best_p_vgg16': 0.000317, 'best_p_vit': 0.0001023}, 'fme': {'cnn_testing_path_best': './checkpoints/vanilla_cnn/best.pth', 'cnn_baseline_path_best': './checkpoints/vanilla_cnn/best.pth', 'vgg_baseline_path_best': './checkpoints/vanilla_vgg16/best.pth', 'resnet_baseline_path_best': './checkpoints/vanilla_resnet/best.pth', 'alexnet_baseline_path_best': './checkpoints/vanilla_alex/best.pth', 'cnn_testing_path_last': './checkpoints/vanilla_cnn/last.pth', 'cnn_baseline_path_last': './checkpoints/vanilla_cnn/last.pth', 'vgg_baseline_path_last': './checkpoints/vanilla_vgg16/last.pth', 'resnet_baseline_path_last': './checkpoints/vanilla_resnet/last.pth', 'alexnet_baseline_path_last': './checkpoints/vanilla_alex/last.pth', 'pretrained_vgg_path_best': './checkpoints/pretrained_vgg/best.pth', 'pretrained_resnet_path_best': './checkpoints/pretrained_resnet/best.pth', 'pretrained_alex_path_best': './checkpoints/pretrained_alex/best.pth', 'pretrained_vgg_path_last': './checkpoints/pretrained_vgg/last.pth', 'pretrained_resnet_path_last': './checkpoints/pretrained_resnet/last.pth', 'pretrained_alex_path_last': './checkpoints/pretrained_alex/last.pth'}, 'test': {'img_size': 64}}\n"
     ]
    }
   ],
   "source": [
    "config: Union[DictConfig, ListConfig] = OmegaConf.load(\"params.yaml\")\n",
    "print(config)"
   ]
  },
  {
   "cell_type": "code",
   "execution_count": 3,
   "metadata": {},
   "outputs": [
    {
     "name": "stdout",
     "output_type": "stream",
     "text": [
      "./Dataset/Training/\n",
      "./Dataset/Validation/\n",
      "./Dataset/Testing/\n",
      "label\n",
      "1    358\n",
      "0    358\n",
      "Name: count, dtype: int64\n",
      "label\n",
      "0    90\n",
      "1    90\n",
      "Name: count, dtype: int64\n",
      "label\n",
      "0    112\n",
      "1    112\n",
      "Name: count, dtype: int64\n",
      "                                 img_path  class_name label\n",
      "0     ./Dataset/Training/smoking_0005.jpg     smoking     1\n",
      "1     ./Dataset/Training/smoking_0059.jpg     smoking     1\n",
      "2     ./Dataset/Training/smoking_0459.jpg     smoking     1\n",
      "3  ./Dataset/Training/notsmoking_0127.jpg  notsmoking     0\n",
      "4     ./Dataset/Training/smoking_0392.jpg     smoking     1\n",
      "./Dataset/Training/\n",
      "./Dataset/Validation/\n",
      "./Dataset/Testing/\n"
     ]
    }
   ],
   "source": [
    "trainDf, validDf, testDf = makeDataFrame(training_path=config.data.training_path,\n",
    "                      validation_path=config.data.validation_path,\n",
    "                      testing_path=config.data.testing_path,\n",
    "                      num_classes=config.constant.num_classes\n",
    "                      )\n",
    "\n",
    "print(trainDf[\"label\"].value_counts())\n",
    "print(validDf[\"label\"].value_counts())\n",
    "print(testDf[\"label\"].value_counts())\n",
    "print(trainDf.head())\n",
    "\n",
    "train_loader, valid_loader, test_loader = makeDataset(\n",
    "    training_path=config.data.training_path,\n",
    "    validation_path=config.data.validation_path,\n",
    "    testing_path=config.data.testing_path,\n",
    "    num_classes=config.constant.num_classes,\n",
    "    batch_size=config.constant.batch_size,\n",
    "    img_size=config.constant.img_size\n",
    ")"
   ]
  },
  {
   "cell_type": "code",
   "execution_count": 5,
   "metadata": {},
   "outputs": [
    {
     "ename": "",
     "evalue": "",
     "output_type": "error",
     "traceback": [
      "\u001b[1;31mThe Kernel crashed while executing code in the the current cell or a previous cell. Please review the code in the cell(s) to identify a possible cause of the failure. Click <a href='https://aka.ms/vscodeJupyterKernelCrash'>here</a> for more info. View Jupyter <a href='command:jupyter.viewOutput'>log</a> for further details."
     ]
    }
   ],
   "source": [
    "eau.runAlgorithm(config, ModelName.vanilla_vgg16, valid_loader)"
   ]
  }
 ],
 "metadata": {
  "kernelspec": {
   "display_name": "AIS_MDS",
   "language": "python",
   "name": "python3"
  },
  "language_info": {
   "codemirror_mode": {
    "name": "ipython",
    "version": 3
   },
   "file_extension": ".py",
   "mimetype": "text/x-python",
   "name": "python",
   "nbconvert_exporter": "python",
   "pygments_lexer": "ipython3",
   "version": "3.9.18"
  }
 },
 "nbformat": 4,
 "nbformat_minor": 2
}
